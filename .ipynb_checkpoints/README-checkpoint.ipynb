{
 "cells": [
  {
   "cell_type": "markdown",
   "id": "ccf9536c",
   "metadata": {},
   "source": [
    "# Project title"
   ]
  },
  {
   "cell_type": "markdown",
   "id": "ceb45e7e",
   "metadata": {},
   "source": [
    "Netflix project. \n",
    "Including 5 different datasets from movies, titles, region, categories to financial status.\n"
   ]
  },
  {
   "cell_type": "markdown",
   "id": "decf6ab0",
   "metadata": {},
   "source": [
    "# Motivation"
   ]
  },
  {
   "cell_type": "markdown",
   "id": "9a6e1fe0",
   "metadata": {},
   "source": [
    "Our purpose was to define the type of productions Netflix creates and its revenue for the last decade. We emphasized on type/ category per country, net income, content spend"
   ]
  },
  {
   "cell_type": "markdown",
   "id": "eb6b6f59",
   "metadata": {},
   "source": [
    "# Code style"
   ]
  },
  {
   "cell_type": "markdown",
   "id": "e4ae0048",
   "metadata": {},
   "source": [
    "js-standard-style"
   ]
  },
  {
   "cell_type": "markdown",
   "id": "bbf8ef79",
   "metadata": {},
   "source": [
    "# Tableau"
   ]
  },
  {
   "cell_type": "markdown",
   "id": "505c510a",
   "metadata": {},
   "source": [
    "https://public.tableau.com/app/profile/susana.pellicer/viz/NetflixProject_16861525113160/NetflixProject?publish=yes"
   ]
  }
 ],
 "metadata": {
  "kernelspec": {
   "display_name": "Python 3 (ipykernel)",
   "language": "python",
   "name": "python3"
  },
  "language_info": {
   "codemirror_mode": {
    "name": "ipython",
    "version": 3
   },
   "file_extension": ".py",
   "mimetype": "text/x-python",
   "name": "python",
   "nbconvert_exporter": "python",
   "pygments_lexer": "ipython3",
   "version": "3.10.9"
  }
 },
 "nbformat": 4,
 "nbformat_minor": 5
}
